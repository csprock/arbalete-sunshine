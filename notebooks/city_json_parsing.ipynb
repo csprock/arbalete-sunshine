{
 "cells": [
  {
   "cell_type": "code",
   "execution_count": null,
   "metadata": {},
   "outputs": [],
   "source": [
    "%cd /app\n",
    "\n",
    "from cjio import cityjson\n",
    "import cjio\n",
    "import json\n",
    "import os\n",
    "import pyproj\n",
    "from pyproj import Transformer\n",
    "import pandas as pd\n",
    "from src.parse_city_json import remove_empty_geometries, remove_empty_egid, preprocess_json\n",
    "\n",
    "source_crs = \"EPSG:2056\"\n",
    "target_crs = \"EPSG:4326\"\n",
    "\n",
    "transformer = Transformer.from_crs(source_crs, target_crs, always_xy=True)"
   ]
  },
  {
   "cell_type": "code",
   "execution_count": null,
   "metadata": {},
   "outputs": [],
   "source": [
    "preprocess_json(\"/app/data/swissBUILDINGS3D_3-0_1047-43.json\", \"/app/data/swissBUILDINGS3D_3-0_1047-43.json\")"
   ]
  },
  {
   "cell_type": "code",
   "execution_count": null,
   "metadata": {},
   "outputs": [],
   "source": [
    "cm = cityjson.load(\"/app/data/swissBUILDINGS3D_3-0_1047-43.json\", transform=True)"
   ]
  },
  {
   "cell_type": "code",
   "execution_count": null,
   "metadata": {},
   "outputs": [],
   "source": [
    "buildings = remove_empty_egid(cm.get_cityobjects(type=\"building\"))\n",
    "building_parts = remove_empty_egid(cm.get_cityobjects(type=[\"buildingpart\"]))"
   ]
  },
  {
   "cell_type": "code",
   "execution_count": null,
   "metadata": {},
   "outputs": [],
   "source": [
    "type(buildings)"
   ]
  },
  {
   "cell_type": "code",
   "execution_count": null,
   "metadata": {},
   "outputs": [],
   "source": [
    "for b in buildings:\n",
    "    data = buildings[b]"
   ]
  },
  {
   "cell_type": "code",
   "execution_count": null,
   "metadata": {},
   "outputs": [],
   "source": [
    "vertices = data.get_vertices()\n",
    "\n",
    "def get_minimum_height(vertex_list):\n",
    "    min_height = 1e9\n",
    "\n",
    "    for v in vertex_list:\n",
    "        if v[2] < min_height:\n",
    "            min_height = v[2]\n",
    "    return min_height\n",
    "\n",
    "\n"
   ]
  },
  {
   "cell_type": "code",
   "execution_count": null,
   "metadata": {},
   "outputs": [],
   "source": [
    "geom = data.geometry[0]\n",
    "\n",
    "roofs = geom.get_surfaces(\"RoofSurface\")\n",
    "\n",
    "for r in roofs:\n",
    "    rf = roofs[r]\n",
    "    t = geom.get_surface_boundaries(rf)\n",
    "t"
   ]
  },
  {
   "cell_type": "code",
   "execution_count": null,
   "metadata": {},
   "outputs": [],
   "source": [
    "geom.get_surface_boundaries(roofs[1])"
   ]
  },
  {
   "cell_type": "code",
   "execution_count": null,
   "metadata": {},
   "outputs": [],
   "source": [
    "roofs = data.geometry[0].get_surfaces(\"RoofSurface\")\n",
    "roof_boundaries = []\n",
    "\n",
    "for r in roofs.values():\n",
    "    roof_boundaries.append(data.geometry[0].get_surface_boundaries(r))\n",
    "roof_boundaries"
   ]
  },
  {
   "cell_type": "code",
   "execution_count": null,
   "metadata": {},
   "outputs": [],
   "source": [
    "for x in roof_boundaries[0]:\n",
    "    x"
   ]
  },
  {
   "cell_type": "code",
   "execution_count": null,
   "metadata": {},
   "outputs": [],
   "source": [
    "data.attributes.get(\"\")"
   ]
  },
  {
   "cell_type": "code",
   "execution_count": null,
   "metadata": {},
   "outputs": [],
   "source": [
    "def process_boundary_generator(generator: iter, transformer: Transformer):\n",
    "\n",
    "    transformed_coordinates = []\n",
    "    for x in generator:\n",
    "        y = transformer.itransform(x[0])\n",
    "        transformed_coordinates.append([yy for yy in y])\n",
    "    \n",
    "    return transformed_coordinates\n",
    "\n",
    "\n",
    "def extract_roof_geometries(co: cjio.models.CityObject, transformer: Transformer):\n",
    "\n",
    "    geometry_data = {}\n",
    "    \n",
    "    egid = co.attributes.get(\"EGID\")\n",
    "    if egid is None:\n",
    "        raise ValueError(\"CityObject does not have an 'EGID' attribute\")\n",
    "    \n",
    "    geometry_data = []\n",
    "\n",
    "    for i, geom in enumerate(co.geometry):\n",
    "        geom_type = geom.type\n",
    "        roofs = geom.get_surfaces(\"RoofSurface\")\n",
    "        roofs_transformed = []\n",
    "        for r in roofs:\n",
    "            if isinstance(r, int):\n",
    "                rf = roofs[r]\n",
    "                boundary = geom.get_surface_boundaries(rf)\n",
    "            else:\n",
    "                boundary = r\n",
    "            roofs_transformed.append(process_boundary_generator(boundary, transformer))\n",
    "\n",
    "        roof_dict = {}\n",
    "        roof_dict[\"type\"] = geom_type\n",
    "        roof_dict[\"coordinates\"] = roofs_transformed\n",
    "        geometry_data.append(roof_dict)\n",
    "\n",
    "    print(f\"{i+1} records processed\")\n",
    "\n",
    "    return {egid: geometry_data}"
   ]
  },
  {
   "cell_type": "code",
   "execution_count": null,
   "metadata": {},
   "outputs": [],
   "source": [
    "building_roof_coordinates = {}\n",
    "for b in buildings:\n",
    "    data = buildings[b]\n",
    "    building_roof_coordinates.update(extract_roof_geometries(data, transformer))"
   ]
  },
  {
   "cell_type": "code",
   "execution_count": null,
   "metadata": {},
   "outputs": [],
   "source": [
    "# save to json\n",
    "with open(\"/app/data/building_roof_coordinates.json\", 'w') as f:\n",
    "    json.dump(building_roof_coordinates, f, indent=2)"
   ]
  }
 ],
 "metadata": {
  "language_info": {
   "name": "python",
   "pygments_lexer": "ipython3"
  }
 },
 "nbformat": 4,
 "nbformat_minor": 2
}

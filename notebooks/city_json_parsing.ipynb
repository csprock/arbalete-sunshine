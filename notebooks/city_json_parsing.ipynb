{
 "cells": [
  {
   "cell_type": "code",
   "execution_count": null,
   "metadata": {},
   "outputs": [],
   "source": [
    "%cd /app\n",
    "\n",
    "from cjio import cityjson\n",
    "import json\n",
    "import os\n",
    "import pandas as pd"
   ]
  },
  {
   "cell_type": "code",
   "execution_count": null,
   "metadata": {},
   "outputs": [],
   "source": [
    "with open(\"/app/data/swissBUILDINGS3D_3-0_1047-43.json\", 'r') as f:\n",
    "    raw_data = json.load(f)"
   ]
  },
  {
   "cell_type": "code",
   "execution_count": null,
   "metadata": {},
   "outputs": [],
   "source": [
    "cm = cityjson.load(\"/app/data/temp.json\", transform=True)"
   ]
  },
  {
   "cell_type": "code",
   "execution_count": null,
   "metadata": {},
   "outputs": [],
   "source": [
    "buildings = cm.get_cityobjects(type=\"building\")\n",
    "building_parts = cm.get_cityobjects(type=[\"buildingpart\"])\n",
    "\n"
   ]
  },
  {
   "cell_type": "code",
   "execution_count": null,
   "metadata": {},
   "outputs": [],
   "source": [
    "sample_id = 'ID_21ED09C8-3FFF-48C6-BB24-165C324DCFCB'\n",
    "\n",
    "building_ids = cm.get_cityobjects(id=sample_id)"
   ]
  },
  {
   "cell_type": "code",
   "execution_count": null,
   "metadata": {},
   "outputs": [],
   "source": [
    "for x in dir(building_parts['ID_1BB768F9-A1C6-4463-8D23-1B95849FA995']):\n",
    "    print(x)"
   ]
  },
  {
   "cell_type": "code",
   "execution_count": null,
   "metadata": {},
   "outputs": [],
   "source": [
    "buildings[building_parts['ID_1BB768F9-A1C6-4463-8D23-1B95849FA995'].parents[0]]"
   ]
  },
  {
   "cell_type": "code",
   "execution_count": null,
   "metadata": {},
   "outputs": [],
   "source": []
  },
  {
   "cell_type": "code",
   "execution_count": null,
   "metadata": {},
   "outputs": [],
   "source": [
    "raw_data['CityObjects']['ID_21ED09C8-3FFF-48C6-BB24-165C324DCFCB']['geometry'][0]['semantics']"
   ]
  },
  {
   "cell_type": "code",
   "execution_count": null,
   "metadata": {},
   "outputs": [],
   "source": [
    "city_objects_without_geometry = []\n",
    "\n",
    "for k, v in raw_data['CityObjects'].items():\n",
    "    if 'geometry' not in v:\n",
    "        city_objects_without_geometry.append(k)\n",
    "        print(k)\n",
    "\n",
    "for k in city_objects_without_geometry:\n",
    "    del raw_data['CityObjects'][k]\n",
    "\n",
    "# save to json \n",
    "with open(\"/app/data/temp.json\", 'w') as f:\n",
    "    json.dump(raw_data, f, indent=4)"
   ]
  },
  {
   "cell_type": "code",
   "execution_count": null,
   "metadata": {},
   "outputs": [],
   "source": []
  }
 ],
 "metadata": {
  "language_info": {
   "name": "python",
   "pygments_lexer": "ipython3"
  }
 },
 "nbformat": 4,
 "nbformat_minor": 2
}
